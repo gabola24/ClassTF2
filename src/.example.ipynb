{
 "cells": [
  {
   "cell_type": "code",
   "execution_count": null,
   "metadata": {},
   "outputs": [],
   "source": [
    "import tensorflow as tf\n",
    "import pandas as pd\n",
    "import datetime\n",
    "import matplotlib.pyplot as plt\n",
    "from utils import plot_results, df_augmentation"
   ]
  },
  {
   "cell_type": "code",
   "execution_count": null,
   "metadata": {},
   "outputs": [],
   "source": [
    "input_files = {\n",
    "    'circle' : '../data/tiny/circle_25/input.txt',\n",
    "    'gauss' : '../data/tiny/gauss_25/input.txt',\n",
    "    'spiral' : '../data/tiny/spiral_25/input.txt',\n",
    "    'xor' : '../data/tiny/xor_25/input.txt'\n",
    "}"
   ]
  },
  {
   "cell_type": "markdown",
   "metadata": {},
   "source": [
    "<div class=\"row\">\n",
    "  <div class=\"column\">\n",
    "      <p>circle</p>\n",
    "    <img src=\"../data/tiny/circle_25/images/0.png\" style=\"width:10%\">\n",
    "     \n",
    "  </div>\n",
    "  <div class=\"column\">\n",
    "      <p>gauss</p>\n",
    "    <img src=\"../data/tiny/gauss_25/images/20.png\" style=\"width:10%\">\n",
    "    \n",
    "  </div>\n",
    "  <div class=\"column\">\n",
    "      <p>spiral</p>\n",
    "    <img src=\"../data/tiny/spiral_25/images/30.png\" style=\"width:10%\">\n",
    "    \n",
    "  </div>\n",
    "   <div class=\"column\">\n",
    "       <p>xor</p>\n",
    "    <img src=\"../data/tiny/xor_25/images/0.png\" style=\"width:10%\">\n",
    "    \n",
    "  </div>\n",
    "</div>\n"
   ]
  },
  {
   "cell_type": "markdown",
   "metadata": {},
   "source": [
    "## Select the dataset"
   ]
  },
  {
   "cell_type": "code",
   "execution_count": null,
   "metadata": {},
   "outputs": [],
   "source": [
    "selected_dataset = 'xor'"
   ]
  },
  {
   "cell_type": "markdown",
   "metadata": {},
   "source": [
    "## Select your features"
   ]
  },
  {
   "cell_type": "code",
   "execution_count": null,
   "metadata": {},
   "outputs": [],
   "source": [
    "#Las posibles variables a escoger son: 'X1','X2', 'X1Squared', 'X2Squared', 'X1X2', 'sinX1', 'sinX2'\n",
    "features = ['X1','X2', 'X1Squared', 'X2Squared', 'X1X2', 'sinX1', 'sinX2']"
   ]
  },
  {
   "cell_type": "markdown",
   "metadata": {},
   "source": [
    "## Load Data"
   ]
  },
  {
   "cell_type": "code",
   "execution_count": null,
   "metadata": {},
   "outputs": [],
   "source": [
    "df = pd.read_csv(input_files[selected_dataset],sep='\\t',usecols=['X1','X2','label'])\n",
    "df = df_augmentation(df.X1.values,df.X2.values,features,df)\n",
    "df['label'] = df['label'].apply(lambda x : 0 if x == -1 else x)\n",
    "df.head()"
   ]
  },
  {
   "cell_type": "markdown",
   "metadata": {},
   "source": [
    "## Define your architecture"
   ]
  },
  {
   "cell_type": "code",
   "execution_count": 1,
   "metadata": {},
   "outputs": [],
   "source": [
    "from tensorflow import keras\n",
    "from tensorflow.keras.layers import *\n",
    "\n",
    "\n",
    "dropout = 0.1\n",
    "\n",
    "model = keras.Sequential()\n",
    "####put your layers here####\n",
    "\n",
    "\n",
    "\n",
    "model.add(Dense(1, activation='sigmoid'))\n"
   ]
  },
  {
   "cell_type": "code",
   "execution_count": null,
   "metadata": {},
   "outputs": [],
   "source": [
    "model.summary()"
   ]
  },
  {
   "cell_type": "markdown",
   "metadata": {},
   "source": [
    "## Log into tensorboard"
   ]
  },
  {
   "cell_type": "code",
   "execution_count": null,
   "metadata": {},
   "outputs": [],
   "source": [
    "tensorboard_cbk = tf.keras.callbacks.TensorBoard(log_dir='../tboard/test_{}'.format(str(datetime.datetime.now().time())))"
   ]
  },
  {
   "cell_type": "markdown",
   "metadata": {},
   "source": [
    "## Compile the model"
   ]
  },
  {
   "cell_type": "code",
   "execution_count": null,
   "metadata": {},
   "outputs": [],
   "source": [
    "model.compile(loss='mse',\n",
    "              optimizer='adagrad',\n",
    "              metrics=['accuracy',\n",
    "                       tf.keras.metrics.Precision()])"
   ]
  },
  {
   "cell_type": "markdown",
   "metadata": {},
   "source": [
    "## Train your model"
   ]
  },
  {
   "cell_type": "code",
   "execution_count": null,
   "metadata": {},
   "outputs": [],
   "source": [
    "history = model.fit(x=df[features], y=df.label, \n",
    "                    epochs=200, \n",
    "                    batch_size=32, \n",
    "                    verbose=0, \n",
    "                    callbacks=[tensorboard_cbk])"
   ]
  },
  {
   "cell_type": "markdown",
   "metadata": {},
   "source": [
    "## Plot metrics"
   ]
  },
  {
   "cell_type": "code",
   "execution_count": null,
   "metadata": {},
   "outputs": [],
   "source": [
    "history.history.keys()"
   ]
  },
  {
   "cell_type": "code",
   "execution_count": null,
   "metadata": {},
   "outputs": [],
   "source": [
    "plt.title('Accuracy')\n",
    "plt.plot(history.history['accuracy'])\n",
    "plt.show()\n",
    "plt.title('Loss')\n",
    "plt.plot(history.history['loss'])\n",
    "plt.show()\n",
    "plt.title('Precision')\n",
    "plt.plot(history.history['precision']);\n",
    "plt.show()"
   ]
  },
  {
   "cell_type": "markdown",
   "metadata": {},
   "source": [
    "## Plot Decision Boundaries"
   ]
  },
  {
   "cell_type": "code",
   "execution_count": null,
   "metadata": {},
   "outputs": [],
   "source": [
    "plot_results(df, model, features)"
   ]
  },
  {
   "cell_type": "markdown",
   "metadata": {},
   "source": [
    "## Watch your tensorboard"
   ]
  },
  {
   "cell_type": "code",
   "execution_count": null,
   "metadata": {},
   "outputs": [],
   "source": []
  }
 ],
 "metadata": {
  "kernelspec": {
   "display_name": "Python 3",
   "language": "python",
   "name": "python3"
  },
  "language_info": {
   "codemirror_mode": {
    "name": "ipython",
    "version": 3
   },
   "file_extension": ".py",
   "mimetype": "text/x-python",
   "name": "python",
   "nbconvert_exporter": "python",
   "pygments_lexer": "ipython3",
   "version": "3.5.3"
  }
 },
 "nbformat": 4,
 "nbformat_minor": 4
}
