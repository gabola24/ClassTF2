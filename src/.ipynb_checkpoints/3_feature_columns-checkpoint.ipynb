{
 "cells": [
  {
   "cell_type": "code",
   "execution_count": null,
   "metadata": {},
   "outputs": [],
   "source": [
    "import os\n",
    "import tensorflow as tf\n",
    "import pandas as pd\n",
    "import numpy as np"
   ]
  },
  {
   "cell_type": "code",
   "execution_count": null,
   "metadata": {},
   "outputs": [],
   "source": [
    "URL = 'https://storage.googleapis.com/applied-dl/heart.csv'\n",
    "dataframe = pd.read_csv(URL)\n",
    "dataframe.head()"
   ]
  },
  {
   "cell_type": "code",
   "execution_count": null,
   "metadata": {},
   "outputs": [],
   "source": [
    "dataframe = dataframe.astype({'age' : np.float32, 'sex' : np.float32, 'cp' : np.float32, 'trestbps' : np.float32, 'chol' : np.float32, 'fbs' : np.float32, 'restecg' : np.float32,\n",
    "                              'thalach' : np.float32, 'exang' : np.float32, 'oldpeak' : np.float32, 'slope' : np.float32, 'ca' : np.float32, 'target' : np.float32})"
   ]
  },
  {
   "cell_type": "code",
   "execution_count": null,
   "metadata": {},
   "outputs": [],
   "source": [
    "dataframe.info()"
   ]
  },
  {
   "cell_type": "code",
   "execution_count": null,
   "metadata": {},
   "outputs": [],
   "source": [
    "def df_to_dataset(dataframe, shuffle=True, batch_size=32):\n",
    "    dataframe = dataframe.copy()\n",
    "    labels = dataframe.pop('target')\n",
    "    ds = tf.data.Dataset.from_tensor_slices((dict(dataframe), labels))\n",
    "    if shuffle:\n",
    "        ds = ds.shuffle(buffer_size=len(dataframe))\n",
    "    ds = ds.batch(batch_size)\n",
    "    return ds"
   ]
  },
  {
   "cell_type": "code",
   "execution_count": null,
   "metadata": {},
   "outputs": [],
   "source": [
    "dataset = df_to_dataset(dataframe, batch_size=2)\n",
    "dataset"
   ]
  },
  {
   "cell_type": "code",
   "execution_count": null,
   "metadata": {},
   "outputs": [],
   "source": [
    "for elem in dataset.take(1):\n",
    "    print('features keys:\\n{}'.format(list(elem[0].keys())))\n",
    "    print('\\n'*3)\n",
    "    print('features:\\n{}'.format(elem[0]))\n",
    "    print('\\n'*3)\n",
    "    print('labels:\\n{}'.format(elem[1]))"
   ]
  },
  {
   "cell_type": "code",
   "execution_count": null,
   "metadata": {},
   "outputs": [],
   "source": [
    "# A utility method to create a feature column\n",
    "# and to transform a batch of data\n",
    "\n",
    "from tensorflow import feature_column\n",
    "from tensorflow.keras import layers"
   ]
  },
  {
   "cell_type": "code",
   "execution_count": null,
   "metadata": {},
   "outputs": [],
   "source": [
    "example_batch = next(iter(dataset))[0]"
   ]
  },
  {
   "cell_type": "code",
   "execution_count": null,
   "metadata": {},
   "outputs": [],
   "source": [
    "example_batch"
   ]
  },
  {
   "cell_type": "markdown",
   "metadata": {},
   "source": [
    "___\n",
    "## [1. numeric_column](https://www.tensorflow.org/api_docs/python/tf/feature_column/numeric_column)"
   ]
  },
  {
   "cell_type": "code",
   "execution_count": null,
   "metadata": {},
   "outputs": [],
   "source": [
    "age = feature_column.numeric_column(\"age\", normalizer_fn=lambda x: (x-25)/50)\n",
    "feature_layer = layers.DenseFeatures(age)\n",
    "feature_layer(example_batch).numpy()"
   ]
  },
  {
   "cell_type": "markdown",
   "metadata": {},
   "source": [
    "## [2. bucketized_column](https://www.tensorflow.org/api_docs/python/tf/feature_column/bucketized_column)\n",
    "\n",
    "<img src=\"../images/3_feature_columns/bucketized_column.jpg\" width=\"400\">"
   ]
  },
  {
   "cell_type": "code",
   "execution_count": null,
   "metadata": {},
   "outputs": [],
   "source": [
    "age = feature_column.numeric_column(\"age\")\n",
    "age_buckets = feature_column.bucketized_column(age, boundaries=[18, 25, 30, 35, 40, 45, 50, 55, 60, 65])\n",
    "feature_layer = layers.DenseFeatures(age_buckets)\n",
    "feature_layer(example_batch).numpy()"
   ]
  },
  {
   "cell_type": "markdown",
   "metadata": {},
   "source": [
    "## 3. categorical columns\n",
    "\n",
    "### [3.1 categorical_column_with_vocabulary_list](https://www.tensorflow.org/api_docs/python/tf/feature_column/categorical_column_with_vocabulary_list)\n",
    "\n",
    "<img src=\"../images/3_feature_columns/categorical_column_with_vocabulary.jpg\" width=\"400\">\n"
   ]
  },
  {
   "cell_type": "code",
   "execution_count": null,
   "metadata": {},
   "outputs": [],
   "source": [
    "thal = tf.feature_column.categorical_column_with_vocabulary_list('thal', ['fixed', 'normal', 'reversible', 'another_1', 'another_2', 'another_3'])\n",
    "thal_one_hot = feature_column.indicator_column(thal)\n",
    "feature_layer = layers.DenseFeatures(thal_one_hot)\n",
    "feature_layer(example_batch).numpy()"
   ]
  },
  {
   "cell_type": "markdown",
   "metadata": {},
   "source": [
    "### [3.2 hashed column](https://www.tensorflow.org/api_docs/python/tf/feature_column/categorical_column_with_hash_bucket)\n",
    "\n",
    "<img src=\"../images/3_feature_columns/hashed_column.jpg\" width=\"600\">"
   ]
  },
  {
   "cell_type": "code",
   "execution_count": null,
   "metadata": {},
   "outputs": [],
   "source": [
    "thal_hashed = tf.feature_column.categorical_column_with_hash_bucket('thal', hash_bucket_size=15)\n",
    "thal_shaed_one_hot = feature_column.indicator_column(thal_hashed)\n",
    "feature_layer = layers.DenseFeatures(thal_shaed_one_hot)\n",
    "feature_layer(example_batch).numpy()"
   ]
  },
  {
   "cell_type": "markdown",
   "metadata": {},
   "source": [
    "## [4. embedding column](https://www.tensorflow.org/api_docs/python/tf/feature_column/embedding_column)\n",
    "\n",
    "<img src=\"../images/3_feature_columns/embedding_vs_indicator.jpg\" width=\"600\">"
   ]
  },
  {
   "cell_type": "code",
   "execution_count": null,
   "metadata": {},
   "outputs": [],
   "source": [
    "thal_embedding = feature_column.embedding_column(thal, dimension=3)\n",
    "feature_layer = layers.DenseFeatures(thal_embedding)\n",
    "feature_layer(example_batch).numpy()"
   ]
  },
  {
   "cell_type": "markdown",
   "metadata": {},
   "source": [
    "## [5. Crossed column](https://www.tensorflow.org/api_docs/python/tf/feature_column/crossed_column)\n",
    "\n",
    "<img src=\"../images/3_feature_columns/crossed_column.jpg\" width=\"600\">\n",
    "\n"
   ]
  },
  {
   "cell_type": "code",
   "execution_count": null,
   "metadata": {},
   "outputs": [],
   "source": [
    "crossed_feature = tf.feature_column.crossed_column([age_buckets, thal], hash_bucket_size=1000)\n",
    "crossed_one_hot = feature_column.indicator_column(crossed_feature)\n",
    "feature_layer = layers.DenseFeatures(crossed_one_hot)\n",
    "feature_layer(example_batch)"
   ]
  }
 ],
 "metadata": {
  "kernelspec": {
   "display_name": "Python 3",
   "language": "python",
   "name": "python3"
  },
  "language_info": {
   "codemirror_mode": {
    "name": "ipython",
    "version": 3
   },
   "file_extension": ".py",
   "mimetype": "text/x-python",
   "name": "python",
   "nbconvert_exporter": "python",
   "pygments_lexer": "ipython3",
   "version": "3.5.3"
  }
 },
 "nbformat": 4,
 "nbformat_minor": 4
}
