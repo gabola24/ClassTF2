{
 "cells": [
  {
   "cell_type": "code",
   "execution_count": 1,
   "metadata": {},
   "outputs": [],
   "source": [
    "import os\n",
    "import tensorflow as tf\n",
    "import pandas as pd\n",
    "import numpy as np"
   ]
  },
  {
   "cell_type": "code",
   "execution_count": 2,
   "metadata": {},
   "outputs": [
    {
     "data": {
      "text/html": [
       "<div>\n",
       "<style scoped>\n",
       "    .dataframe tbody tr th:only-of-type {\n",
       "        vertical-align: middle;\n",
       "    }\n",
       "\n",
       "    .dataframe tbody tr th {\n",
       "        vertical-align: top;\n",
       "    }\n",
       "\n",
       "    .dataframe thead th {\n",
       "        text-align: right;\n",
       "    }\n",
       "</style>\n",
       "<table border=\"1\" class=\"dataframe\">\n",
       "  <thead>\n",
       "    <tr style=\"text-align: right;\">\n",
       "      <th></th>\n",
       "      <th>age</th>\n",
       "      <th>sex</th>\n",
       "      <th>cp</th>\n",
       "      <th>trestbps</th>\n",
       "      <th>chol</th>\n",
       "      <th>fbs</th>\n",
       "      <th>restecg</th>\n",
       "      <th>thalach</th>\n",
       "      <th>exang</th>\n",
       "      <th>oldpeak</th>\n",
       "      <th>slope</th>\n",
       "      <th>ca</th>\n",
       "      <th>thal</th>\n",
       "      <th>target</th>\n",
       "    </tr>\n",
       "  </thead>\n",
       "  <tbody>\n",
       "    <tr>\n",
       "      <td>0</td>\n",
       "      <td>63</td>\n",
       "      <td>1</td>\n",
       "      <td>1</td>\n",
       "      <td>145</td>\n",
       "      <td>233</td>\n",
       "      <td>1</td>\n",
       "      <td>2</td>\n",
       "      <td>150</td>\n",
       "      <td>0</td>\n",
       "      <td>2.3</td>\n",
       "      <td>3</td>\n",
       "      <td>0</td>\n",
       "      <td>fixed</td>\n",
       "      <td>0</td>\n",
       "    </tr>\n",
       "    <tr>\n",
       "      <td>1</td>\n",
       "      <td>67</td>\n",
       "      <td>1</td>\n",
       "      <td>4</td>\n",
       "      <td>160</td>\n",
       "      <td>286</td>\n",
       "      <td>0</td>\n",
       "      <td>2</td>\n",
       "      <td>108</td>\n",
       "      <td>1</td>\n",
       "      <td>1.5</td>\n",
       "      <td>2</td>\n",
       "      <td>3</td>\n",
       "      <td>normal</td>\n",
       "      <td>1</td>\n",
       "    </tr>\n",
       "    <tr>\n",
       "      <td>2</td>\n",
       "      <td>67</td>\n",
       "      <td>1</td>\n",
       "      <td>4</td>\n",
       "      <td>120</td>\n",
       "      <td>229</td>\n",
       "      <td>0</td>\n",
       "      <td>2</td>\n",
       "      <td>129</td>\n",
       "      <td>1</td>\n",
       "      <td>2.6</td>\n",
       "      <td>2</td>\n",
       "      <td>2</td>\n",
       "      <td>reversible</td>\n",
       "      <td>0</td>\n",
       "    </tr>\n",
       "    <tr>\n",
       "      <td>3</td>\n",
       "      <td>37</td>\n",
       "      <td>1</td>\n",
       "      <td>3</td>\n",
       "      <td>130</td>\n",
       "      <td>250</td>\n",
       "      <td>0</td>\n",
       "      <td>0</td>\n",
       "      <td>187</td>\n",
       "      <td>0</td>\n",
       "      <td>3.5</td>\n",
       "      <td>3</td>\n",
       "      <td>0</td>\n",
       "      <td>normal</td>\n",
       "      <td>0</td>\n",
       "    </tr>\n",
       "    <tr>\n",
       "      <td>4</td>\n",
       "      <td>41</td>\n",
       "      <td>0</td>\n",
       "      <td>2</td>\n",
       "      <td>130</td>\n",
       "      <td>204</td>\n",
       "      <td>0</td>\n",
       "      <td>2</td>\n",
       "      <td>172</td>\n",
       "      <td>0</td>\n",
       "      <td>1.4</td>\n",
       "      <td>1</td>\n",
       "      <td>0</td>\n",
       "      <td>normal</td>\n",
       "      <td>0</td>\n",
       "    </tr>\n",
       "  </tbody>\n",
       "</table>\n",
       "</div>"
      ],
      "text/plain": [
       "   age  sex  cp  trestbps  chol  fbs  restecg  thalach  exang  oldpeak  slope  \\\n",
       "0   63    1   1       145   233    1        2      150      0      2.3      3   \n",
       "1   67    1   4       160   286    0        2      108      1      1.5      2   \n",
       "2   67    1   4       120   229    0        2      129      1      2.6      2   \n",
       "3   37    1   3       130   250    0        0      187      0      3.5      3   \n",
       "4   41    0   2       130   204    0        2      172      0      1.4      1   \n",
       "\n",
       "   ca        thal  target  \n",
       "0   0       fixed       0  \n",
       "1   3      normal       1  \n",
       "2   2  reversible       0  \n",
       "3   0      normal       0  \n",
       "4   0      normal       0  "
      ]
     },
     "execution_count": 2,
     "metadata": {},
     "output_type": "execute_result"
    }
   ],
   "source": [
    "URL = 'https://storage.googleapis.com/applied-dl/heart.csv'\n",
    "dataframe = pd.read_csv(URL)\n",
    "dataframe.head()"
   ]
  },
  {
   "cell_type": "code",
   "execution_count": 3,
   "metadata": {},
   "outputs": [],
   "source": [
    "dataframe = dataframe.astype({'age' : np.float32, 'sex' : np.float32, 'cp' : np.float32, 'trestbps' : np.float32, 'chol' : np.float32, 'fbs' : np.float32, 'restecg' : np.float32,\n",
    "                              'thalach' : np.float32, 'exang' : np.float32, 'oldpeak' : np.float32, 'slope' : np.float32, 'ca' : np.float32, 'target' : np.float32})"
   ]
  },
  {
   "cell_type": "code",
   "execution_count": 4,
   "metadata": {},
   "outputs": [
    {
     "name": "stdout",
     "output_type": "stream",
     "text": [
      "<class 'pandas.core.frame.DataFrame'>\n",
      "RangeIndex: 303 entries, 0 to 302\n",
      "Data columns (total 14 columns):\n",
      "age         303 non-null float32\n",
      "sex         303 non-null float32\n",
      "cp          303 non-null float32\n",
      "trestbps    303 non-null float32\n",
      "chol        303 non-null float32\n",
      "fbs         303 non-null float32\n",
      "restecg     303 non-null float32\n",
      "thalach     303 non-null float32\n",
      "exang       303 non-null float32\n",
      "oldpeak     303 non-null float32\n",
      "slope       303 non-null float32\n",
      "ca          303 non-null float32\n",
      "thal        303 non-null object\n",
      "target      303 non-null float32\n",
      "dtypes: float32(13), object(1)\n",
      "memory usage: 17.9+ KB\n"
     ]
    }
   ],
   "source": [
    "dataframe.info()"
   ]
  },
  {
   "cell_type": "code",
   "execution_count": 5,
   "metadata": {},
   "outputs": [],
   "source": [
    "def df_to_dataset(dataframe, shuffle=True, batch_size=32):\n",
    "    dataframe = dataframe.copy()\n",
    "    labels = dataframe.pop('target')\n",
    "    ds = tf.data.Dataset.from_tensor_slices((dict(dataframe), labels))\n",
    "    if shuffle:\n",
    "        ds = ds.shuffle(buffer_size=len(dataframe))\n",
    "    ds = ds.batch(batch_size)\n",
    "    return ds"
   ]
  },
  {
   "cell_type": "code",
   "execution_count": 6,
   "metadata": {},
   "outputs": [
    {
     "data": {
      "text/plain": [
       "<BatchDataset shapes: ({trestbps: (None,), thal: (None,), fbs: (None,), age: (None,), cp: (None,), chol: (None,), slope: (None,), ca: (None,), thalach: (None,), sex: (None,), restecg: (None,), exang: (None,), oldpeak: (None,)}, (None,)), types: ({trestbps: tf.float32, thal: tf.string, fbs: tf.float32, age: tf.float32, cp: tf.float32, chol: tf.float32, slope: tf.float32, ca: tf.float32, thalach: tf.float32, sex: tf.float32, restecg: tf.float32, exang: tf.float32, oldpeak: tf.float32}, tf.float32)>"
      ]
     },
     "execution_count": 6,
     "metadata": {},
     "output_type": "execute_result"
    }
   ],
   "source": [
    "dataset = df_to_dataset(dataframe, batch_size=2)\n",
    "dataset"
   ]
  },
  {
   "cell_type": "code",
   "execution_count": 7,
   "metadata": {},
   "outputs": [
    {
     "name": "stdout",
     "output_type": "stream",
     "text": [
      "features keys:\n",
      "['trestbps', 'thal', 'fbs', 'age', 'cp', 'chol', 'slope', 'thalach', 'ca', 'sex', 'oldpeak', 'exang', 'restecg']\n",
      "\n",
      "\n",
      "\n",
      "\n",
      "features:\n",
      "{'trestbps': <tf.Tensor: id=44, shape=(2,), dtype=float32, numpy=array([130., 140.], dtype=float32)>, 'thal': <tf.Tensor: id=42, shape=(2,), dtype=string, numpy=array([b'reversible', b'normal'], dtype=object)>, 'fbs': <tf.Tensor: id=37, shape=(2,), dtype=float32, numpy=array([1., 0.], dtype=float32)>, 'age': <tf.Tensor: id=32, shape=(2,), dtype=float32, numpy=array([63., 42.], dtype=float32)>, 'cp': <tf.Tensor: id=35, shape=(2,), dtype=float32, numpy=array([4., 4.], dtype=float32)>, 'chol': <tf.Tensor: id=34, shape=(2,), dtype=float32, numpy=array([330., 226.], dtype=float32)>, 'slope': <tf.Tensor: id=41, shape=(2,), dtype=float32, numpy=array([1., 1.], dtype=float32)>, 'thalach': <tf.Tensor: id=43, shape=(2,), dtype=float32, numpy=array([132., 178.], dtype=float32)>, 'ca': <tf.Tensor: id=33, shape=(2,), dtype=float32, numpy=array([3., 0.], dtype=float32)>, 'sex': <tf.Tensor: id=40, shape=(2,), dtype=float32, numpy=array([1., 1.], dtype=float32)>, 'oldpeak': <tf.Tensor: id=38, shape=(2,), dtype=float32, numpy=array([1.8, 0. ], dtype=float32)>, 'exang': <tf.Tensor: id=36, shape=(2,), dtype=float32, numpy=array([1., 0.], dtype=float32)>, 'restecg': <tf.Tensor: id=39, shape=(2,), dtype=float32, numpy=array([2., 0.], dtype=float32)>}\n",
      "\n",
      "\n",
      "\n",
      "\n",
      "labels:\n",
      "[1. 0.]\n"
     ]
    }
   ],
   "source": [
    "for elem in dataset.take(1):\n",
    "    print('features keys:\\n{}'.format(list(elem[0].keys())))\n",
    "    print('\\n'*3)\n",
    "    print('features:\\n{}'.format(elem[0]))\n",
    "    print('\\n'*3)\n",
    "    print('labels:\\n{}'.format(elem[1]))"
   ]
  },
  {
   "cell_type": "code",
   "execution_count": 8,
   "metadata": {},
   "outputs": [],
   "source": [
    "# A utility method to create a feature column\n",
    "# and to transform a batch of data\n",
    "\n",
    "from tensorflow import feature_column\n",
    "from tensorflow.keras import layers"
   ]
  },
  {
   "cell_type": "code",
   "execution_count": 9,
   "metadata": {},
   "outputs": [],
   "source": [
    "example_batch = next(iter(dataset))[0]"
   ]
  },
  {
   "cell_type": "code",
   "execution_count": 10,
   "metadata": {},
   "outputs": [
    {
     "data": {
      "text/plain": [
       "{'age': <tf.Tensor: id=51, shape=(2,), dtype=float32, numpy=array([49., 43.], dtype=float32)>,\n",
       " 'ca': <tf.Tensor: id=52, shape=(2,), dtype=float32, numpy=array([3., 0.], dtype=float32)>,\n",
       " 'chol': <tf.Tensor: id=53, shape=(2,), dtype=float32, numpy=array([188., 213.], dtype=float32)>,\n",
       " 'cp': <tf.Tensor: id=54, shape=(2,), dtype=float32, numpy=array([3., 3.], dtype=float32)>,\n",
       " 'exang': <tf.Tensor: id=55, shape=(2,), dtype=float32, numpy=array([0., 0.], dtype=float32)>,\n",
       " 'fbs': <tf.Tensor: id=56, shape=(2,), dtype=float32, numpy=array([0., 0.], dtype=float32)>,\n",
       " 'oldpeak': <tf.Tensor: id=57, shape=(2,), dtype=float32, numpy=array([2. , 0.2], dtype=float32)>,\n",
       " 'restecg': <tf.Tensor: id=58, shape=(2,), dtype=float32, numpy=array([0., 0.], dtype=float32)>,\n",
       " 'sex': <tf.Tensor: id=59, shape=(2,), dtype=float32, numpy=array([1., 0.], dtype=float32)>,\n",
       " 'slope': <tf.Tensor: id=60, shape=(2,), dtype=float32, numpy=array([2., 2.], dtype=float32)>,\n",
       " 'thal': <tf.Tensor: id=61, shape=(2,), dtype=string, numpy=array([b'reversible', b'normal'], dtype=object)>,\n",
       " 'thalach': <tf.Tensor: id=62, shape=(2,), dtype=float32, numpy=array([139., 165.], dtype=float32)>,\n",
       " 'trestbps': <tf.Tensor: id=63, shape=(2,), dtype=float32, numpy=array([120., 122.], dtype=float32)>}"
      ]
     },
     "execution_count": 10,
     "metadata": {},
     "output_type": "execute_result"
    }
   ],
   "source": [
    "example_batch"
   ]
  },
  {
   "cell_type": "markdown",
   "metadata": {},
   "source": [
    "___\n",
    "## [1. numeric_column](https://www.tensorflow.org/api_docs/python/tf/feature_column/numeric_column)"
   ]
  },
  {
   "cell_type": "code",
   "execution_count": 14,
   "metadata": {},
   "outputs": [
    {
     "data": {
      "text/plain": [
       "array([[0.48],\n",
       "       [0.36]], dtype=float32)"
      ]
     },
     "execution_count": 14,
     "metadata": {},
     "output_type": "execute_result"
    }
   ],
   "source": [
    "age = feature_column.numeric_column(\"age\", normalizer_fn=lambda x: (x-25)/50)\n",
    "feature_layer = layers.DenseFeatures(age)\n",
    "feature_layer(example_batch).numpy()"
   ]
  },
  {
   "cell_type": "markdown",
   "metadata": {},
   "source": [
    "## [2. bucketized_column](https://www.tensorflow.org/api_docs/python/tf/feature_column/bucketized_column)\n",
    "\n",
    "<img src=\"../images/3_feature_columns/bucketized_column.jpg\" width=\"400\">"
   ]
  },
  {
   "cell_type": "code",
   "execution_count": 15,
   "metadata": {},
   "outputs": [
    {
     "data": {
      "text/plain": [
       "array([[0., 0., 0., 0., 0., 0., 1., 0., 0., 0., 0.],\n",
       "       [0., 0., 0., 0., 0., 1., 0., 0., 0., 0., 0.]], dtype=float32)"
      ]
     },
     "execution_count": 15,
     "metadata": {},
     "output_type": "execute_result"
    }
   ],
   "source": [
    "age = feature_column.numeric_column(\"age\")\n",
    "age_buckets = feature_column.bucketized_column(age, boundaries=[18, 25, 30, 35, 40, 45, 50, 55, 60, 65])\n",
    "feature_layer = layers.DenseFeatures(age_buckets)\n",
    "feature_layer(example_batch).numpy()"
   ]
  },
  {
   "cell_type": "markdown",
   "metadata": {},
   "source": [
    "## 3. categorical columns\n",
    "\n",
    "### [3.1 categorical_column_with_vocabulary_list](https://www.tensorflow.org/api_docs/python/tf/feature_column/categorical_column_with_vocabulary_list)\n",
    "\n",
    "<img src=\"../images/3_feature_columns/categorical_column_with_vocabulary.jpg\" width=\"400\">\n"
   ]
  },
  {
   "cell_type": "code",
   "execution_count": 19,
   "metadata": {},
   "outputs": [
    {
     "data": {
      "text/plain": [
       "array([[0., 0., 1., 0., 0., 0.],\n",
       "       [0., 1., 0., 0., 0., 0.]], dtype=float32)"
      ]
     },
     "execution_count": 19,
     "metadata": {},
     "output_type": "execute_result"
    }
   ],
   "source": [
    "thal = tf.feature_column.categorical_column_with_vocabulary_list('thal', ['fixed', 'normal', 'reversible', 'another_1', 'another_2', 'another_3'])\n",
    "thal_one_hot = feature_column.indicator_column(thal)\n",
    "feature_layer = layers.DenseFeatures(thal_one_hot)\n",
    "feature_layer(example_batch).numpy()"
   ]
  },
  {
   "cell_type": "markdown",
   "metadata": {},
   "source": [
    "### [3.2 hashed column](https://www.tensorflow.org/api_docs/python/tf/feature_column/categorical_column_with_hash_bucket)\n",
    "\n",
    "<img src=\"../images/3_feature_columns/hashed_column.jpg\" width=\"600\">"
   ]
  },
  {
   "cell_type": "code",
   "execution_count": 22,
   "metadata": {},
   "outputs": [
    {
     "data": {
      "text/plain": [
       "array([[0., 0., 0., 0., 0., 0., 0., 0., 0., 0., 0., 0., 0., 0., 1.],\n",
       "       [0., 0., 0., 0., 0., 0., 0., 0., 1., 0., 0., 0., 0., 0., 0.]],\n",
       "      dtype=float32)"
      ]
     },
     "execution_count": 22,
     "metadata": {},
     "output_type": "execute_result"
    }
   ],
   "source": [
    "thal_hashed = tf.feature_column.categorical_column_with_hash_bucket('thal', hash_bucket_size=15)\n",
    "thal_shaed_one_hot = feature_column.indicator_column(thal_hashed)\n",
    "feature_layer = layers.DenseFeatures(thal_shaed_one_hot)\n",
    "feature_layer(example_batch).numpy()"
   ]
  },
  {
   "cell_type": "markdown",
   "metadata": {},
   "source": [
    "## [4. embedding column](https://www.tensorflow.org/api_docs/python/tf/feature_column/embedding_column)\n",
    "\n",
    "<img src=\"../images/3_feature_columns/embedding_vs_indicator.jpg\" width=\"600\">"
   ]
  },
  {
   "cell_type": "code",
   "execution_count": 23,
   "metadata": {},
   "outputs": [
    {
     "data": {
      "text/plain": [
       "array([[ 0.29143268, -0.79603183,  0.02700424],\n",
       "       [ 0.3871378 , -0.4228113 , -0.00858483]], dtype=float32)"
      ]
     },
     "execution_count": 23,
     "metadata": {},
     "output_type": "execute_result"
    }
   ],
   "source": [
    "thal_embedding = feature_column.embedding_column(thal, dimension=3)\n",
    "feature_layer = layers.DenseFeatures(thal_embedding)\n",
    "feature_layer(example_batch).numpy()"
   ]
  },
  {
   "cell_type": "markdown",
   "metadata": {},
   "source": [
    "## [5. Crossed column](https://www.tensorflow.org/api_docs/python/tf/feature_column/crossed_column)\n",
    "\n",
    "<img src=\"../images/3_feature_columns/crossed_column.jpg\" width=\"600\">\n",
    "\n"
   ]
  },
  {
   "cell_type": "code",
   "execution_count": 24,
   "metadata": {},
   "outputs": [
    {
     "name": "stdout",
     "output_type": "stream",
     "text": [
      "WARNING:tensorflow:From /usr/local/lib/python3.5/dist-packages/tensorflow_core/python/feature_column/feature_column_v2.py:4331: CrossedColumn._num_buckets (from tensorflow.python.feature_column.feature_column_v2) is deprecated and will be removed in a future version.\n",
      "Instructions for updating:\n",
      "The old _FeatureColumn APIs are being deprecated. Please use the new FeatureColumn APIs instead.\n"
     ]
    },
    {
     "data": {
      "text/plain": [
       "<tf.Tensor: id=530, shape=(2, 1000), dtype=float32, numpy=\n",
       "array([[0., 0., 0., ..., 0., 0., 0.],\n",
       "       [0., 0., 0., ..., 0., 0., 0.]], dtype=float32)>"
      ]
     },
     "execution_count": 24,
     "metadata": {},
     "output_type": "execute_result"
    }
   ],
   "source": [
    "crossed_feature = tf.feature_column.crossed_column([age_buckets, thal], hash_bucket_size=1000)\n",
    "crossed_one_hot = feature_column.indicator_column(crossed_feature)\n",
    "feature_layer = layers.DenseFeatures(crossed_one_hot)\n",
    "feature_layer(example_batch)"
   ]
  }
 ],
 "metadata": {
  "kernelspec": {
   "display_name": "Python 3",
   "language": "python",
   "name": "python3"
  },
  "language_info": {
   "codemirror_mode": {
    "name": "ipython",
    "version": 3
   },
   "file_extension": ".py",
   "mimetype": "text/x-python",
   "name": "python",
   "nbconvert_exporter": "python",
   "pygments_lexer": "ipython3",
   "version": "3.5.3"
  }
 },
 "nbformat": 4,
 "nbformat_minor": 4
}
